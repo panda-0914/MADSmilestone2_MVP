{
  "cells": [
    {
      "cell_type": "markdown",
      "metadata": {
        "colab_type": "text",
        "id": "view-in-github"
      },
      "source": [
        "<a href=\"https://colab.research.google.com/github/ian-byrne/MADSmilestone2/blob/main/multimodel2.ipynb\" target=\"_parent\"><img src=\"https://colab.research.google.com/assets/colab-badge.svg\" alt=\"Open In Colab\"/></a>"
      ]
    },
    {
      "cell_type": "markdown",
      "metadata": {
        "id": "mr0BpfQ_RzhT"
      },
      "source": [
        "# Second half of the multimodel attempt.\n",
        "- The idea is for the CNN to predict the scores of the clocks and then we would pass that data, along with the measurements of the other test and predict whether the patient was in class 0, 1, or 2.\n",
        "- For the time being this being used to simply explore the predictive ability of the dataset without using the CNN for the clock scores."
      ]
    },
    {
      "cell_type": "code",
      "execution_count": 1,
      "metadata": {
        "colab": {
          "base_uri": "https://localhost:8080/"
        },
        "id": "o-tIqyD9PhQ7",
        "outputId": "3d11a22a-8232-4bf8-ec3e-d10e5700bebe"
      },
      "outputs": [
        {
          "name": "stdout",
          "output_type": "stream",
          "text": [
            "Mounted at /content/gdrive\n"
          ]
        }
      ],
      "source": [
        "from google.colab import drive\n",
        "drive.mount('/content/gdrive')"
      ]
    },
    {
      "cell_type": "code",
      "execution_count": 4,
      "metadata": {
        "colab": {
          "base_uri": "https://localhost:8080/"
        },
        "id": "V1C9G_c9PnPl",
        "outputId": "54d19d2f-96cb-4797-a72b-8a458851faf2"
      },
      "outputs": [
        {
          "name": "stdout",
          "output_type": "stream",
          "text": [
            "fatal: destination path 'MADSmilestone2' already exists and is not an empty directory.\n",
            "/content/MADSmilestone2\n"
          ]
        }
      ],
      "source": [
        "# Clone the entire repo.\n",
        "!git clone -l -s https://github.com/ian-byrne/MADSmilestone2.git\n",
        "# Change directory into cloned repo\n",
        "%cd MADSmilestone2"
      ]
    },
    {
      "cell_type": "code",
      "execution_count": 27,
      "metadata": {
        "id": "JDGQ6gzk36Ke"
      },
      "outputs": [],
      "source": [
        "# !ls"
      ]
    },
    {
      "cell_type": "code",
      "execution_count": 106,
      "metadata": {
        "id": "CIV5RfEUPzFW"
      },
      "outputs": [],
      "source": [
        "import pandas as pd\n",
        "import numpy as np\n",
        "import matplotlib.pyplot as plt\n",
        "from sklearn.decomposition import PCA\n",
        "from sklearn.model_selection import train_test_split\n",
        "from sklearn.preprocessing import StandardScaler\n",
        "from sklearn.naive_bayes import GaussianNB\n",
        "from sklearn.naive_bayes import ComplementNB\n",
        "from sklearn.neighbors import KNeighborsClassifier\n",
        "from sklearn.ensemble import RandomForestClassifier\n",
        "import seaborn as sns\n",
        "%matplotlib inline"
      ]
    },
    {
      "cell_type": "code",
      "execution_count": null,
      "metadata": {
        "id": "SUpGPCPSQR_-"
      },
      "outputs": [],
      "source": [
        "df = pd.read_csv(\"Data/cleaned_nhat_data.csv\")\n",
        "# df.info()"
      ]
    },
    {
      "cell_type": "code",
      "execution_count": 89,
      "metadata": {
        "id": "yP5TlhtcRVQ6"
      },
      "outputs": [],
      "source": [
        "df[\"r_spid\"] = df[\"round\"].astype(\"str\") + \"_\" + df[\"spid\"].astype(\"str\")"
      ]
    },
    {
      "cell_type": "code",
      "execution_count": 90,
      "metadata": {
        "id": "trfLnrbw-hv4"
      },
      "outputs": [],
      "source": [
        "df.drop(\n",
        "    columns=[\"spid\", \"round\"], \n",
        "    inplace=True\n",
        "    )\n",
        "df.set_index(\n",
        "    \"r_spid\", \n",
        "    inplace=True)"
      ]
    },
    {
      "cell_type": "code",
      "execution_count": null,
      "metadata": {
        "colab": {
          "base_uri": "https://localhost:8080/",
          "height": 255
        },
        "id": "4rs-M8hFVy_5",
        "outputId": "bee819cd-ea68-4870-e749-1ac3918047d9"
      },
      "outputs": [],
      "source": [
        "df.head()"
      ]
    },
    {
      "cell_type": "code",
      "execution_count": 47,
      "metadata": {
        "id": "wsWn_X1FBKCy"
      },
      "outputs": [],
      "source": [
        "X = df.iloc[:,:-1]\n",
        "y = df.iloc[:,-1]\n",
        "\n",
        "X_train, X_test, y_train, y_test = train_test_split(\n",
        "    X, y, test_size=0.25, random_state=42)"
      ]
    },
    {
      "cell_type": "code",
      "execution_count": 62,
      "metadata": {
        "id": "6iObz6fhCm1A"
      },
      "outputs": [],
      "source": [
        "scaler = StandardScaler()\n",
        "scaler.fit(X_train)\n",
        "scaled_df = scaler.transform(X_train)"
      ]
    },
    {
      "cell_type": "code",
      "execution_count": 63,
      "metadata": {
        "id": "cqRFDMLDCqSg"
      },
      "outputs": [],
      "source": [
        "pca = PCA(n_components=2)\n",
        "pca.fit(scaled_df)\n",
        "x_pca = pca.transform(scaled_df)"
      ]
    },
    {
      "cell_type": "code",
      "execution_count": null,
      "metadata": {
        "colab": {
          "base_uri": "https://localhost:8080/",
          "height": 405
        },
        "id": "BDpJu-wgLOLP",
        "outputId": "ed929959-3788-4944-bfe1-eb4cd2882111"
      },
      "outputs": [],
      "source": [
        "plt.figure(figsize=(8,6))\n",
        "plt.scatter(\n",
        "    x_pca[:,0],\n",
        "    x_pca[:,1], \n",
        "    c=y_train, \n",
        "    cmap='plasma'\n",
        ")\n",
        "plt.xlabel('First principal component')\n",
        "plt.ylabel('Second Principal Component')"
      ]
    },
    {
      "cell_type": "code",
      "execution_count": null,
      "metadata": {
        "colab": {
          "base_uri": "https://localhost:8080/",
          "height": 388
        },
        "id": "NGttxwqqOLSh",
        "outputId": "24035823-eaa0-45f2-9061-1b21f076fe32"
      },
      "outputs": [],
      "source": [
        "pca2 = PCA().fit(X_train)\n",
        "plt.figure(figsize=(8,6))\n",
        "plt.plot(np.cumsum(pca2.explained_variance_ratio_))\n",
        "plt.xlabel('number of components')\n",
        "plt.ylabel('cumulative explained variance');"
      ]
    },
    {
      "cell_type": "markdown",
      "metadata": {
        "id": "85lCoIQYRt2Q"
      },
      "source": [
        "## Naive Bayes Classifer"
      ]
    },
    {
      "cell_type": "code",
      "execution_count": 103,
      "metadata": {
        "colab": {
          "base_uri": "https://localhost:8080/"
        },
        "id": "t7Vz2rxpQYHf",
        "outputId": "2bd5a156-5f9a-4c6d-9058-85e9b7798071"
      },
      "outputs": [
        {
          "name": "stdout",
          "output_type": "stream",
          "text": [
            "Number of mislabeled points out of a total 12841 points : 1571\n",
            "percent correct:  0.877657503309711\n"
          ]
        }
      ],
      "source": [
        "gnb = GaussianNB()\n",
        "y_pred = gnb.fit(X_train, y_train).predict(X_test)\n",
        "print(\"Number of mislabeled points out of a total %d points : %d\"\n",
        "      % (X_test.shape[0], (y_test != y_pred).sum()))\n",
        "print(\"percent correct: \", (X_test.shape[0]-(y_test != y_pred).sum()) / X_test.shape[0])"
      ]
    },
    {
      "cell_type": "code",
      "execution_count": 104,
      "metadata": {
        "colab": {
          "base_uri": "https://localhost:8080/"
        },
        "id": "bs9nIoC4UukJ",
        "outputId": "334241c3-b0e4-45a5-c907-b98f9b0bacf7"
      },
      "outputs": [
        {
          "name": "stdout",
          "output_type": "stream",
          "text": [
            "Number of mislabeled points out of a total 12841 points : 2885\n",
            "percent correct:  0.7753290242192976\n"
          ]
        }
      ],
      "source": [
        "cnb = ComplementNB()\n",
        "y_pred = cnb.fit(X_train, y_train).predict(X_test)\n",
        "print(\"Number of mislabeled points out of a total %d points : %d\"\n",
        "      % (X_test.shape[0], (y_test != y_pred).sum()))\n",
        "print(\"percent correct: \", (X_test.shape[0]-(y_test != y_pred).sum()) / X_test.shape[0])"
      ]
    },
    {
      "cell_type": "markdown",
      "metadata": {
        "id": "6Nom7ljbXFVY"
      },
      "source": [
        "## KNN Classifier"
      ]
    },
    {
      "cell_type": "code",
      "execution_count": 109,
      "metadata": {
        "id": "KltFotiiYIaV"
      },
      "outputs": [],
      "source": [
        "# loop through different n_neighbors "
      ]
    },
    {
      "cell_type": "code",
      "execution_count": 107,
      "metadata": {
        "colab": {
          "base_uri": "https://localhost:8080/"
        },
        "id": "gqhOZ2koXOHb",
        "outputId": "4582522a-065a-4332-937b-07b9f22eadd8"
      },
      "outputs": [
        {
          "name": "stdout",
          "output_type": "stream",
          "text": [
            "Number of mislabeled points out of a total 12841 points : 285\n",
            "percent correct:  0.9778054668639514\n"
          ]
        }
      ],
      "source": [
        "neigh = KNeighborsClassifier(n_neighbors=3)\n",
        "y_pred = neigh.fit(X_train, y_train).predict(X_test)\n",
        "print(\"Number of mislabeled points out of a total %d points : %d\"\n",
        "      % (X_test.shape[0], (y_test != y_pred).sum()))\n",
        "print(\"percent correct: \", (X_test.shape[0]-(y_test != y_pred).sum()) / X_test.shape[0])"
      ]
    },
    {
      "cell_type": "code",
      "execution_count": null,
      "metadata": {
        "id": "l0hJsYoxXOEf"
      },
      "outputs": [],
      "source": []
    },
    {
      "cell_type": "markdown",
      "metadata": {
        "id": "3bVXbdpqXKYl"
      },
      "source": [
        "## Random Forest Classifier"
      ]
    },
    {
      "cell_type": "code",
      "execution_count": 110,
      "metadata": {
        "id": "RNGQAMibYF9W"
      },
      "outputs": [],
      "source": [
        "# loop through different depths"
      ]
    },
    {
      "cell_type": "code",
      "execution_count": 111,
      "metadata": {
        "colab": {
          "base_uri": "https://localhost:8080/"
        },
        "id": "9oBqH4G3XNgJ",
        "outputId": "2158a326-1841-413a-dbe2-72b8808d482d"
      },
      "outputs": [
        {
          "name": "stdout",
          "output_type": "stream",
          "text": [
            "Number of mislabeled points out of a total 12841 points : 854\n",
            "percent correct:  0.9334942761467175\n"
          ]
        }
      ],
      "source": [
        "rf = RandomForestClassifier(max_depth=3, random_state=42)\n",
        "y_pred = rf.fit(X_train, y_train).predict(X_test)\n",
        "print(\"Number of mislabeled points out of a total %d points : %d\"\n",
        "      % (X_test.shape[0], (y_test != y_pred).sum()))\n",
        "print(\"percent correct: \", (X_test.shape[0]-(y_test != y_pred).sum()) / X_test.shape[0])"
      ]
    },
    {
      "cell_type": "code",
      "execution_count": null,
      "metadata": {
        "id": "da0d85pBXNdy"
      },
      "outputs": [],
      "source": [
        "#no changes needed\n"
      ]
    }
  ],
  "metadata": {
    "colab": {
      "authorship_tag": "ABX9TyM0Y8lULw5MVO1yWzGtsIFg",
      "include_colab_link": true,
      "name": "multimodel2.ipynb",
      "provenance": []
    },
    "kernelspec": {
      "display_name": "Python 3",
      "name": "python3"
    },
    "language_info": {
      "name": "python"
    }
  },
  "nbformat": 4,
  "nbformat_minor": 0
}

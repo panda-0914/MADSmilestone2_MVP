{
  "cells": [
    {
      "cell_type": "markdown",
      "metadata": {
        "colab_type": "text",
        "id": "view-in-github"
      },
      "source": [
        "<a href=\"https://colab.research.google.com/github/ian-byrne/MADSmilestone2/blob/main/ian_testingground.ipynb\" target=\"_parent\"><img src=\"https://colab.research.google.com/assets/colab-badge.svg\" alt=\"Open In Colab\"/></a>"
      ]
    },
    {
      "cell_type": "markdown",
      "metadata": {
        "id": "_FHXitU9O83I"
      },
      "source": [
        "# Notebook used to test project ideas\n",
        "Author: Ian Byrne\n",
        "\n",
        "Email: ianbyrne@umich.edu"
      ]
    },
    {
      "cell_type": "code",
      "execution_count": 7,
      "metadata": {
        "colab": {
          "base_uri": "https://localhost:8080/"
        },
        "id": "s66tCBE_zjyN",
        "outputId": "e20cf4ff-4ea9-452c-f712-7a8edee5df14"
      },
      "outputs": [
        {
          "name": "stdout",
          "output_type": "stream",
          "text": [
            "Mounted at /content/gdrive\n"
          ]
        }
      ],
      "source": [
        "from google.colab import drive\n",
        "drive.mount('/content/gdrive')"
      ]
    },
    {
      "cell_type": "markdown",
      "metadata": {
        "id": "irLLerGdPTMA"
      },
      "source": [
        "## Reading in data stream"
      ]
    },
    {
      "cell_type": "code",
      "execution_count": 1,
      "metadata": {
        "colab": {
          "base_uri": "https://localhost:8080/"
        },
        "id": "B8dwTbQ7OzIy",
        "outputId": "7d7e81a7-769b-478e-e5a5-e85f8583581e"
      },
      "outputs": [
        {
          "name": "stdout",
          "output_type": "stream",
          "text": [
            "Cloning into 'MADSmilestone2'...\n",
            "warning: --local is ignored\n",
            "remote: Enumerating objects: 432, done.\u001b[K\n",
            "remote: Counting objects: 100% (432/432), done.\u001b[K\n",
            "remote: Compressing objects: 100% (360/360), done.\u001b[K\n",
            "remote: Total 432 (delta 240), reused 160 (delta 66), pack-reused 0\u001b[K\n",
            "Receiving objects: 100% (432/432), 3.23 MiB | 4.23 MiB/s, done.\n",
            "Resolving deltas: 100% (240/240), done.\n",
            "/content/MADSmilestone2\n",
            "Data\t\t\t Images.ipynb  Labeling  README.md\n",
            "ian_testingground.ipynb  Images.py     Loading\t Supervised_CNN.ipynb\n"
          ]
        }
      ],
      "source": [
        "# Clone the entire repo.\n",
        "!git clone -l -s https://github.com/ian-byrne/MADSmilestone2.git\n",
        "\n",
        "# Change directory into cloned repo\n",
        "%cd MADSmilestone2\n",
        "\n",
        "# List repo contents\n",
        "!ls"
      ]
    },
    {
      "cell_type": "markdown",
      "metadata": {
        "id": "-mkkO8YaO5HB"
      },
      "source": [
        "Load imports as necessary"
      ]
    },
    {
      "cell_type": "code",
      "execution_count": 3,
      "metadata": {
        "id": "0GQ4Zpuu7LIW"
      },
      "outputs": [],
      "source": [
        "from tqdm import tqdm"
      ]
    },
    {
      "cell_type": "code",
      "execution_count": 4,
      "metadata": {
        "colab": {
          "base_uri": "https://localhost:8080/"
        },
        "id": "E9fdnaFI8YdU",
        "outputId": "36221b9e-490b-48d9-82b1-2c3417d7e353"
      },
      "outputs": [
        {
          "name": "stderr",
          "output_type": "stream",
          "text": [
            "/usr/local/lib/python3.7/dist-packages/requests/__init__.py:91: RequestsDependencyWarning: urllib3 (1.26.6) or chardet (3.0.4) doesn't match a supported version!\n",
            "  RequestsDependencyWarning)\n"
          ]
        }
      ],
      "source": [
        "import Loading.load_data as loading\n",
        "\n",
        "import io\n",
        "import logging\n",
        "import os\n",
        "import ast\n",
        "import torch\n",
        "import pandas as pd\n",
        "import numpy as np\n",
        "import matplotlib.pyplot as plt\n",
        "from PIL import Image\n",
        "from torch.utils.data import Dataset, DataLoader\n",
        "import glob"
      ]
    },
    {
      "cell_type": "code",
      "execution_count": null,
      "metadata": {
        "colab": {
          "base_uri": "https://localhost:8080/"
        },
        "id": "5INSK_rltii7",
        "outputId": "1f50c9c9-6e4c-46fc-b241-f69911db22c4"
      },
      "outputs": [
        {
          "data": {
            "text/plain": [
              "['/content/gdrive/MyDrive/Data/Nhats Dataset/NHATS_R11_ClockDrawings_V2/10000008.tif',\n",
              " '/content/gdrive/MyDrive/Data/Nhats Dataset/NHATS_R11_ClockDrawings_V2/10000019.tif',\n",
              " '/content/gdrive/MyDrive/Data/Nhats Dataset/NHATS_R11_ClockDrawings_V2/10000021.tif',\n",
              " '/content/gdrive/MyDrive/Data/Nhats Dataset/NHATS_R11_ClockDrawings_V2/10000022.tif',\n",
              " '/content/gdrive/MyDrive/Data/Nhats Dataset/NHATS_R11_ClockDrawings_V2/10000036.tif']"
            ]
          },
          "execution_count": 10,
          "metadata": {},
          "output_type": "execute_result"
        }
      ],
      "source": [
        "# List files in the directory\n",
        "path = '/content/gdrive/MyDrive/Data/Nhats Dataset/NHATS_R11_ClockDrawings_V2'\n",
        "files = glob.glob(os.path.join(path, '*.tif'))\n",
        "files[:5]"
      ]
    },
    {
      "cell_type": "markdown",
      "metadata": {
        "id": "Ak7hl4Wik1SC"
      },
      "source": [
        "~~Import dataframe containing spid, description of clock, diagnosis, round~~\n",
        "\n",
        "Import the text file containing the dictionary of rounds and their spids and lebels. \n",
        "- Transform into a nested list to make loops easier. "
      ]
    },
    {
      "cell_type": "code",
      "execution_count": null,
      "metadata": {
        "id": "je2HcD5mv2kk"
      },
      "outputs": [],
      "source": [
        "file = open(\"Data/roundIdLabelDict.txt\", \"r\")\n",
        "\n",
        "contents = file.read()\n",
        "round_dict = ast.literal_eval(contents)"
      ]
    },
    {
      "cell_type": "code",
      "execution_count": null,
      "metadata": {
        "colab": {
          "base_uri": "https://localhost:8080/"
        },
        "id": "nAmkbo1Q2TWf",
        "outputId": "bbc41b3f-308b-4d24-9d56-849937cd6e0b"
      },
      "outputs": [
        {
          "data": {
            "text/plain": [
              "('10001875', 0)"
            ]
          },
          "execution_count": 37,
          "metadata": {},
          "output_type": "execute_result"
        }
      ],
      "source": [
        "round_dict[4][0]"
      ]
    },
    {
      "cell_type": "markdown",
      "metadata": {
        "id": "78m3bZ50k_DO"
      },
      "source": [
        "### Custom data set, idea:\n",
        "- take in the dataframe from the rounds_df\n",
        "- utilize the spid number and the round number to load the correct .tif image from Google Drive\n",
        "- tbd: any transforms to be done on the images to prepare for learning\n",
        "    - Can likely utilize this to loop through the large images and convert to smaller images and then save them to a new directory/ or locally to make the data more manageable \n",
        "- Should return the image in tensor format and the label (diagnosis)"
      ]
    },
    {
      "cell_type": "code",
      "execution_count": null,
      "metadata": {
        "id": "IZbcJd2_jpWa"
      },
      "outputs": [],
      "source": [
        "class ClockImages(Dataset):\n",
        "    \"\"\"Original large format clock drawing dataset\"\"\"\n",
        "\n",
        "    def __init__(self, round, round_labels):\n",
        "        \"\"\"\n",
        "        Args:\n",
        "            round (int): Round to grab images from. \n",
        "            values (list of tuples): Corresponding values for the round.\n",
        "        \"\"\"\n",
        "        self.round = round\n",
        "        self.vals = round_labels\n",
        "        self.base_path = '/content/gdrive/MyDrive/Data/Nhats Dataset/NHATS_R11_ClockDrawings_V2'\n",
        "\n",
        "\n",
        "    def __len__(self):\n",
        "        return len(self.vals)\n",
        "\n",
        "    \n",
        "    def __getitem__(self, idx):\n",
        "        spid = self.vals[idx][0]\n",
        "        label = self.vals[idx][1]\n",
        "        filename = f\"{spid}.tif\"\n",
        "        file_path = os.path.join(self.base_path, filename)\n",
        "\n",
        "        im = Image.open(file_path)\n",
        "        resized = im.resize((160, 207)) \n",
        "        im_arr = np.array(resized)\n",
        "\n",
        "        sample = {'image': im_arr, 'name': str(self.round)+\"_\"+filename}\n",
        "\n",
        "        return sample"
      ]
    },
    {
      "cell_type": "code",
      "execution_count": null,
      "metadata": {
        "colab": {
          "base_uri": "https://localhost:8080/",
          "height": 411
        },
        "id": "A1MqKNzw23ir",
        "outputId": "4e9195f3-072b-4bb2-fde1-f028dbbcd4c9"
      },
      "outputs": [],
      "source": [
        "data = ClockImages(10, round_dict[10])\n",
        "clock_dataloader = DataLoader(dataset=data)\n",
        "for sample in tqdm(clock_dataloader):\n",
        "\n",
        "    # convert from tensor to array\n",
        "    im_arr = np.asarray(sample['image'][0])\n",
        "\n",
        "    # convert back to image\n",
        "    im = Image.fromarray(im_arr)\n",
        "\n",
        "    # save image locally\n",
        "    im.save(\"im2upload.tif\", \"TIFF\")\n",
        "    print(f\"Processed: {sample['name'][0]}\")"
      ]
    },
    {
      "cell_type": "markdown",
      "metadata": {
        "id": "sjNnvw-bIq1A"
      },
      "source": [
        "## Resizing images, convert any RGB images to grayscale, setting to binary, and saving into Train, Validate and Test image and label numpy array files"
      ]
    },
    {
      "cell_type": "code",
      "execution_count": 20,
      "metadata": {
        "colab": {
          "base_uri": "https://localhost:8080/"
        },
        "id": "Ci0MlAtPIk5M",
        "outputId": "7d8761fa-6601-4358-b20f-267d185ebab8"
      },
      "outputs": [
        {
          "name": "stderr",
          "output_type": "stream",
          "text": [
            "100%|█████████████████| 1/1 [00:00<00:00,  2.24it/s]\n"
          ]
        }
      ],
      "source": [
        "class ResizedClocks(Dataset):\n",
        "    #Resized clock drawing dataset\n",
        "\n",
        "    def __init__(self, round, round_labels):\n",
        "        \n",
        "       # Args:\n",
        "           # round (int): Round to grab images from. \n",
        "           # values (list of tuples): Corresponding values for the round.\n",
        "        \n",
        "        self.round = round\n",
        "        self.vals = round_labels\n",
        "        self.base_path = '/content/gdrive/MyDrive/Data/Nhats Dataset/NHATS_R11_ClockDrawings_V2'\n",
        "    \n",
        "    def __len__(self):\n",
        "        return len(self.vals)\n",
        "\n",
        "    def __getitem__(self, idx):\n",
        "        spid = self.vals[idx][0]\n",
        "        label = self.vals[idx][1]\n",
        "        filename = f\"{spid}.tif\"\n",
        "        file_path = os.path.join(self.base_path, filename)\n",
        "\n",
        "        try:\n",
        "          im = Image.open(file_path)\n",
        "\n",
        "          gray = im.convert('1')\n",
        "          resized = gray.resize((160, 207)) \n",
        "          im_arr = np.array(resized).astype(int)\n",
        "\n",
        "          sample = {'image': im_arr, 'label': label}\n",
        "          \n",
        "          return sample\n",
        "          \n",
        "        except FileNotFoundError as e:\n",
        "          #logging.error(e)\n",
        "          return None\n",
        "\n",
        "\n",
        "\n",
        "\n",
        "\n",
        "\"\"\"Load the dictionary with IDs, rounds and labels\n",
        "# train_dict.txt\n",
        "# test_dict.txt\n",
        "# val_dict.txt\"\"\"\n",
        "customDict_file = open(\"Data/train_dict.txt\", \"r\")\n",
        "#print(customDict_file.readline())\n",
        "contents = customDict_file.read()\n",
        "dictionary = ast.literal_eval(contents)\n",
        "customDict_file.close()\n",
        "\n",
        "\n",
        "\n",
        "\n",
        "\n",
        "\"\"\"Create arrays to store the data and labels\n",
        "Create separate files for train, val, test\n",
        "by passing in only the corresponding dictionary \"\"\"\n",
        "image_array = []\n",
        "label_array = []\n",
        "round_val = [1,2,3,4,5,6,7,8]#,9,10]\n",
        "\n",
        "for val in round_val:\n",
        "  data = ResizedClocks(val, dictionary[val])\n",
        "  for sample in tqdm(data):\n",
        "    if sample is not None:\n",
        "      try:\n",
        "        image_array.append(sample['image'])\n",
        "        label_array.append(sample['label'])\n",
        "      except TypeError as e:\n",
        "        #logging.error(e)\n",
        "        pass \n",
        "\n",
        "np.save('train_images{}.npy'.format(val), image_array) # save images\n",
        "np.save('train_labels{}.npy'.format(val), label_array) # save labels"
      ]
    }
  ]
}
